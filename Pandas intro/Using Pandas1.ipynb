This folder contains the instructional modules relating to working with Pandas to organize and filter data in Python3.
