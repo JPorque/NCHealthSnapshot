{
 "cells": [
  {
   "cell_type": "markdown",
   "id": "2e2156bc-991c-4ca3-8ddf-0bf75bcf9236",
   "metadata": {},
   "source": [
    "Jason Marin - Feeder 3.1"
   ]
  },
  {
   "cell_type": "markdown",
   "id": "bd0e894f-a144-4603-b00b-97f381a4397a",
   "metadata": {},
   "source": [
    "<h1>Data Compilation in Python</h1>"
   ]
  },
  {
   "cell_type": "markdown",
   "id": "18c55503-f958-4da1-84d8-6d7d35a69b24",
   "metadata": {},
   "source": [
    "<h4>Beginning your journey:</h4>"
   ]
  },
  {
   "cell_type": "markdown",
   "id": "227eea0b-3f68-41bb-8fb9-4430d6a198f6",
   "metadata": {},
   "source": [
    "<h5>Procedural Overview:</h5>"
   ]
  },
  {
   "cell_type": "markdown",
   "id": "df2ab6cc-66a6-4361-a572-d8fcc49c4134",
   "metadata": {},
   "source": [
    "This introduction will include:\n",
    "<p>1. an explanation of the Pandas package and a few of its functions<br>\n",
    "   2. an example of how to modify data and highlight choice sections<br>\n",
    "   3. how to concatonate various simplified data sets so that all the desired data is displayed in a certain manner<br>\n",
    "   4. the creation of a simplified data set from 2014-2015 County Health Data that highlights low birthweight in NC counties</p>"
   ]
  },
  {
   "cell_type": "markdown",
   "id": "ee11e5b6-7182-4648-a9bb-f83e0181734e",
   "metadata": {},
   "source": [
    "Before modifying data using Python, the data must first be imported into the file. "
   ]
  },
  {
   "cell_type": "markdown",
   "id": "8878f01f-3c1c-42c0-aa84-c477f9e88643",
   "metadata": {},
   "source": [
    "To do this, we need to first import Pandas into the file, which is an open-source package that allows for data compilation and organization."
   ]
  },
  {
   "cell_type": "markdown",
   "id": "dcca9984-98b2-4d8c-9084-0da184f245d5",
   "metadata": {},
   "source": [
    "The notation for this is <code>import pandas</code>. We can also use <code>as pd</code> so that we only have to type pd when we want to use pandas functions."
   ]
  },
  {
   "cell_type": "code",
   "execution_count": 1,
   "id": "0b10b2e6-c30a-404a-abe5-0a59a5879d76",
   "metadata": {},
   "outputs": [],
   "source": [
    "import pandas as pd"
   ]
  },
  {
   "cell_type": "markdown",
   "id": "7261bda3-f0d1-4b0b-8704-c2b654813357",
   "metadata": {},
   "source": [
    "Now that pandas is available for our use, we can use it to call our data file, making it available for modiffication."
   ]
  },
  {
   "cell_type": "markdown",
   "id": "909649a1-ab55-42ef-ae14-7555b8980d8d",
   "metadata": {},
   "source": [
    "To do this, we need to use the notation <code>pd.read_csv(<i>\"filename\"</i>)</code>. Again we should make it easier for us to use the data, so defining rawdata (rd) as the file, will make it much easier for use to use the file's information. We need to define it using the code below:"
   ]
  },
  {
   "cell_type": "code",
   "execution_count": 2,
   "id": "9534cc89-7545-41ff-b96a-c0e8607ab9c9",
   "metadata": {},
   "outputs": [
    {
     "name": "stdout",
     "output_type": "stream",
     "text": [
      "     State Region  Division                      County   FIPS  GEOID  \\\n",
      "0       AK   West   Pacific  Aleutians West Census Area   2016   2016   \n",
      "1       AK   West   Pacific  Aleutians West Census Area   2016   2016   \n",
      "2       AK   West   Pacific           Anchorage Borough   2020   2020   \n",
      "3       AK   West   Pacific           Anchorage Borough   2020   2020   \n",
      "4       AK   West   Pacific          Bethel Census Area   2050   2050   \n",
      "...    ...    ...       ...                         ...    ...    ...   \n",
      "6104    WY   West  Mountain                Uinta County  56041  56041   \n",
      "6105    WY   West  Mountain             Washakie County  56043  56043   \n",
      "6106    WY   West  Mountain             Washakie County  56043  56043   \n",
      "6107    WY   West  Mountain               Weston County  56045  56045   \n",
      "6108    WY   West  Mountain               Weston County  56045  56045   \n",
      "\n",
      "       SMS Region      Year  Premature death  Poor or fair health  ...  \\\n",
      "0     Insuff Data  1/1/2014              NaN                0.122  ...   \n",
      "1     Insuff Data  1/1/2015              NaN                0.122  ...   \n",
      "2       Region 22  1/1/2014           6827.0                0.125  ...   \n",
      "3       Region 22  1/1/2015           6856.0                0.125  ...   \n",
      "4     Insuff Data  1/1/2014          13345.0                0.211  ...   \n",
      "...           ...       ...              ...                  ...  ...   \n",
      "6104  Insuff Data  1/1/2015           7436.0                0.135  ...   \n",
      "6105  Insuff Data  1/1/2014           6580.0                0.106  ...   \n",
      "6106  Insuff Data  1/1/2015           7572.0                0.106  ...   \n",
      "6107  Insuff Data  1/1/2014           5633.0                0.162  ...   \n",
      "6108  Insuff Data  1/1/2015           7819.0                0.162  ...   \n",
      "\n",
      "      Drug poisoning deaths  Uninsured adults  Uninsured children  \\\n",
      "0                       NaN             0.374               0.250   \n",
      "1                       NaN             0.314               0.176   \n",
      "2                     15.37             0.218               0.096   \n",
      "3                     17.08             0.227               0.123   \n",
      "4                       NaN             0.394               0.124   \n",
      "...                     ...               ...                 ...   \n",
      "6104                  18.66             0.192               0.090   \n",
      "6105                    NaN             0.225               0.086   \n",
      "6106                    NaN             0.226               0.101   \n",
      "6107                    NaN             0.201               0.084   \n",
      "6108                    NaN             0.189               0.092   \n",
      "\n",
      "      Health care costs  Could not see doctor due to cost  \\\n",
      "0                3791.0                             0.185   \n",
      "1                4837.0                             0.185   \n",
      "2                6588.0                             0.119   \n",
      "3                6582.0                             0.119   \n",
      "4                5860.0                             0.200   \n",
      "...                 ...                               ...   \n",
      "6104             7600.0                             0.123   \n",
      "6105             8202.0                             0.099   \n",
      "6106             7940.0                             0.099   \n",
      "6107             6906.0                             0.130   \n",
      "6108             7238.0                             0.130   \n",
      "\n",
      "      Other primary care providers  Median household income  \\\n",
      "0                            216.0                    69192   \n",
      "1                            254.0                    74088   \n",
      "2                            135.0                    71094   \n",
      "3                            148.0                    76362   \n",
      "4                            169.0                    41722   \n",
      "...                            ...                      ...   \n",
      "6104                          47.0                    60953   \n",
      "6105                          47.0                    49533   \n",
      "6106                          47.0                    50740   \n",
      "6107                          28.0                    53665   \n",
      "6108                          28.0                    59314   \n",
      "\n",
      "      Children eligible for free lunch  Homicide rate  \\\n",
      "0                                0.127            NaN   \n",
      "1                                0.133            NaN   \n",
      "2                                0.319           6.29   \n",
      "3                                0.334           5.60   \n",
      "4                                0.668          12.77   \n",
      "...                                ...            ...   \n",
      "6104                             0.273            NaN   \n",
      "6105                             0.328            NaN   \n",
      "6106                             0.309            NaN   \n",
      "6107                             0.232            NaN   \n",
      "6108                             0.235            NaN   \n",
      "\n",
      "      Inadequate social support  \n",
      "0                         0.287  \n",
      "1                           NaN  \n",
      "2                         0.160  \n",
      "3                           NaN  \n",
      "4                         0.477  \n",
      "...                         ...  \n",
      "6104                        NaN  \n",
      "6105                      0.133  \n",
      "6106                        NaN  \n",
      "6107                      0.171  \n",
      "6108                        NaN  \n",
      "\n",
      "[6109 rows x 64 columns]\n"
     ]
    }
   ],
   "source": [
    "rd = pd.read_csv(\"CountyHealthData_2014-2015.csv\")\n",
    "print(rd)"
   ]
  },
  {
   "cell_type": "markdown",
   "id": "b94cd59b-a2a0-4711-8aa4-97ef63b3da20",
   "metadata": {},
   "source": [
    "<h4>Filtering your data:</h4>"
   ]
  },
  {
   "cell_type": "markdown",
   "id": "47c95745-48de-4434-a1bb-3cc2fcf686c8",
   "metadata": {},
   "source": [
    "To begin modifying the data, there are quite a few functions available to us. Some of the most simple functions to begin this process are the <code>.loc</code> and <code>.iloc</code> attributes. These will allow us to pull specific data from our dataset to highlight or modify. Some examples of this are below."
   ]
  },
  {
   "cell_type": "code",
   "execution_count": 3,
   "id": "166b2fe0-8a6c-4eee-8bab-e3e7025c165c",
   "metadata": {},
   "outputs": [
    {
     "data": {
      "text/plain": [
       "0    Aleutians West Census Area\n",
       "1    Aleutians West Census Area\n",
       "2             Anchorage Borough\n",
       "3             Anchorage Borough\n",
       "Name: County, dtype: object"
      ]
     },
     "execution_count": 3,
     "metadata": {},
     "output_type": "execute_result"
    }
   ],
   "source": [
    "rd.loc[0:3,\"County\"]"
   ]
  },
  {
   "cell_type": "code",
   "execution_count": 4,
   "id": "4a4dd411-bc44-4f2e-887e-8007ffe9a28e",
   "metadata": {},
   "outputs": [
    {
     "data": {
      "text/plain": [
       "0    Aleutians West Census Area\n",
       "1    Aleutians West Census Area\n",
       "2             Anchorage Borough\n",
       "Name: County, dtype: object"
      ]
     },
     "execution_count": 4,
     "metadata": {},
     "output_type": "execute_result"
    }
   ],
   "source": [
    "rd.iloc[0:3,3]"
   ]
  },
  {
   "cell_type": "markdown",
   "id": "98d37327-2a86-4c7b-acca-6710bf517c58",
   "metadata": {},
   "source": [
    "The first example, with <code>loc</code>, displays rows 0-3 in the column named \"County\"."
   ]
  },
  {
   "cell_type": "markdown",
   "id": "c75cb97a-d12f-47bd-b02f-323a00999de3",
   "metadata": {},
   "source": [
    "The second example using <code>iloc</code>, does something similar, except it accepts only integers to pick the rows and columns to highlight."
   ]
  },
  {
   "cell_type": "markdown",
   "id": "7ccd3a20-fd90-4352-a787-74fc6ae354a5",
   "metadata": {},
   "source": [
    "More advanced filtering will allow us to search for specific terms in our data to pull out."
   ]
  },
  {
   "cell_type": "markdown",
   "id": "2f0d7abb-139e-4a89-87b3-277009132d24",
   "metadata": {},
   "source": [
    "For example we can use the function below to find all the data where the region is classified as West. We do this by creating an inner function which will return True or False and an outer function that looks for data give the True/False statement."
   ]
  },
  {
   "cell_type": "code",
   "execution_count": 5,
   "id": "7b687b67-f9ef-463c-9034-5a08ad396d37",
   "metadata": {},
   "outputs": [
    {
     "data": {
      "text/html": [
       "<div>\n",
       "<style scoped>\n",
       "    .dataframe tbody tr th:only-of-type {\n",
       "        vertical-align: middle;\n",
       "    }\n",
       "\n",
       "    .dataframe tbody tr th {\n",
       "        vertical-align: top;\n",
       "    }\n",
       "\n",
       "    .dataframe thead th {\n",
       "        text-align: right;\n",
       "    }\n",
       "</style>\n",
       "<table border=\"1\" class=\"dataframe\">\n",
       "  <thead>\n",
       "    <tr style=\"text-align: right;\">\n",
       "      <th></th>\n",
       "      <th>State</th>\n",
       "      <th>Region</th>\n",
       "      <th>Division</th>\n",
       "      <th>County</th>\n",
       "      <th>FIPS</th>\n",
       "      <th>GEOID</th>\n",
       "      <th>SMS Region</th>\n",
       "      <th>Year</th>\n",
       "      <th>Premature death</th>\n",
       "      <th>Poor or fair health</th>\n",
       "      <th>...</th>\n",
       "      <th>Drug poisoning deaths</th>\n",
       "      <th>Uninsured adults</th>\n",
       "      <th>Uninsured children</th>\n",
       "      <th>Health care costs</th>\n",
       "      <th>Could not see doctor due to cost</th>\n",
       "      <th>Other primary care providers</th>\n",
       "      <th>Median household income</th>\n",
       "      <th>Children eligible for free lunch</th>\n",
       "      <th>Homicide rate</th>\n",
       "      <th>Inadequate social support</th>\n",
       "    </tr>\n",
       "  </thead>\n",
       "  <tbody>\n",
       "    <tr>\n",
       "      <th>0</th>\n",
       "      <td>AK</td>\n",
       "      <td>West</td>\n",
       "      <td>Pacific</td>\n",
       "      <td>Aleutians West Census Area</td>\n",
       "      <td>2016</td>\n",
       "      <td>2016</td>\n",
       "      <td>Insuff Data</td>\n",
       "      <td>1/1/2014</td>\n",
       "      <td>NaN</td>\n",
       "      <td>0.122</td>\n",
       "      <td>...</td>\n",
       "      <td>NaN</td>\n",
       "      <td>0.374</td>\n",
       "      <td>0.250</td>\n",
       "      <td>3791.0</td>\n",
       "      <td>0.185</td>\n",
       "      <td>216.0</td>\n",
       "      <td>69192</td>\n",
       "      <td>0.127</td>\n",
       "      <td>NaN</td>\n",
       "      <td>0.287</td>\n",
       "    </tr>\n",
       "    <tr>\n",
       "      <th>1</th>\n",
       "      <td>AK</td>\n",
       "      <td>West</td>\n",
       "      <td>Pacific</td>\n",
       "      <td>Aleutians West Census Area</td>\n",
       "      <td>2016</td>\n",
       "      <td>2016</td>\n",
       "      <td>Insuff Data</td>\n",
       "      <td>1/1/2015</td>\n",
       "      <td>NaN</td>\n",
       "      <td>0.122</td>\n",
       "      <td>...</td>\n",
       "      <td>NaN</td>\n",
       "      <td>0.314</td>\n",
       "      <td>0.176</td>\n",
       "      <td>4837.0</td>\n",
       "      <td>0.185</td>\n",
       "      <td>254.0</td>\n",
       "      <td>74088</td>\n",
       "      <td>0.133</td>\n",
       "      <td>NaN</td>\n",
       "      <td>NaN</td>\n",
       "    </tr>\n",
       "    <tr>\n",
       "      <th>2</th>\n",
       "      <td>AK</td>\n",
       "      <td>West</td>\n",
       "      <td>Pacific</td>\n",
       "      <td>Anchorage Borough</td>\n",
       "      <td>2020</td>\n",
       "      <td>2020</td>\n",
       "      <td>Region 22</td>\n",
       "      <td>1/1/2014</td>\n",
       "      <td>6827.0</td>\n",
       "      <td>0.125</td>\n",
       "      <td>...</td>\n",
       "      <td>15.37</td>\n",
       "      <td>0.218</td>\n",
       "      <td>0.096</td>\n",
       "      <td>6588.0</td>\n",
       "      <td>0.119</td>\n",
       "      <td>135.0</td>\n",
       "      <td>71094</td>\n",
       "      <td>0.319</td>\n",
       "      <td>6.29</td>\n",
       "      <td>0.160</td>\n",
       "    </tr>\n",
       "    <tr>\n",
       "      <th>3</th>\n",
       "      <td>AK</td>\n",
       "      <td>West</td>\n",
       "      <td>Pacific</td>\n",
       "      <td>Anchorage Borough</td>\n",
       "      <td>2020</td>\n",
       "      <td>2020</td>\n",
       "      <td>Region 22</td>\n",
       "      <td>1/1/2015</td>\n",
       "      <td>6856.0</td>\n",
       "      <td>0.125</td>\n",
       "      <td>...</td>\n",
       "      <td>17.08</td>\n",
       "      <td>0.227</td>\n",
       "      <td>0.123</td>\n",
       "      <td>6582.0</td>\n",
       "      <td>0.119</td>\n",
       "      <td>148.0</td>\n",
       "      <td>76362</td>\n",
       "      <td>0.334</td>\n",
       "      <td>5.60</td>\n",
       "      <td>NaN</td>\n",
       "    </tr>\n",
       "    <tr>\n",
       "      <th>4</th>\n",
       "      <td>AK</td>\n",
       "      <td>West</td>\n",
       "      <td>Pacific</td>\n",
       "      <td>Bethel Census Area</td>\n",
       "      <td>2050</td>\n",
       "      <td>2050</td>\n",
       "      <td>Insuff Data</td>\n",
       "      <td>1/1/2014</td>\n",
       "      <td>13345.0</td>\n",
       "      <td>0.211</td>\n",
       "      <td>...</td>\n",
       "      <td>NaN</td>\n",
       "      <td>0.394</td>\n",
       "      <td>0.124</td>\n",
       "      <td>5860.0</td>\n",
       "      <td>0.200</td>\n",
       "      <td>169.0</td>\n",
       "      <td>41722</td>\n",
       "      <td>0.668</td>\n",
       "      <td>12.77</td>\n",
       "      <td>0.477</td>\n",
       "    </tr>\n",
       "    <tr>\n",
       "      <th>...</th>\n",
       "      <td>...</td>\n",
       "      <td>...</td>\n",
       "      <td>...</td>\n",
       "      <td>...</td>\n",
       "      <td>...</td>\n",
       "      <td>...</td>\n",
       "      <td>...</td>\n",
       "      <td>...</td>\n",
       "      <td>...</td>\n",
       "      <td>...</td>\n",
       "      <td>...</td>\n",
       "      <td>...</td>\n",
       "      <td>...</td>\n",
       "      <td>...</td>\n",
       "      <td>...</td>\n",
       "      <td>...</td>\n",
       "      <td>...</td>\n",
       "      <td>...</td>\n",
       "      <td>...</td>\n",
       "      <td>...</td>\n",
       "      <td>...</td>\n",
       "    </tr>\n",
       "    <tr>\n",
       "      <th>6104</th>\n",
       "      <td>WY</td>\n",
       "      <td>West</td>\n",
       "      <td>Mountain</td>\n",
       "      <td>Uinta County</td>\n",
       "      <td>56041</td>\n",
       "      <td>56041</td>\n",
       "      <td>Insuff Data</td>\n",
       "      <td>1/1/2015</td>\n",
       "      <td>7436.0</td>\n",
       "      <td>0.135</td>\n",
       "      <td>...</td>\n",
       "      <td>18.66</td>\n",
       "      <td>0.192</td>\n",
       "      <td>0.090</td>\n",
       "      <td>7600.0</td>\n",
       "      <td>0.123</td>\n",
       "      <td>47.0</td>\n",
       "      <td>60953</td>\n",
       "      <td>0.273</td>\n",
       "      <td>NaN</td>\n",
       "      <td>NaN</td>\n",
       "    </tr>\n",
       "    <tr>\n",
       "      <th>6105</th>\n",
       "      <td>WY</td>\n",
       "      <td>West</td>\n",
       "      <td>Mountain</td>\n",
       "      <td>Washakie County</td>\n",
       "      <td>56043</td>\n",
       "      <td>56043</td>\n",
       "      <td>Insuff Data</td>\n",
       "      <td>1/1/2014</td>\n",
       "      <td>6580.0</td>\n",
       "      <td>0.106</td>\n",
       "      <td>...</td>\n",
       "      <td>NaN</td>\n",
       "      <td>0.225</td>\n",
       "      <td>0.086</td>\n",
       "      <td>8202.0</td>\n",
       "      <td>0.099</td>\n",
       "      <td>47.0</td>\n",
       "      <td>49533</td>\n",
       "      <td>0.328</td>\n",
       "      <td>NaN</td>\n",
       "      <td>0.133</td>\n",
       "    </tr>\n",
       "    <tr>\n",
       "      <th>6106</th>\n",
       "      <td>WY</td>\n",
       "      <td>West</td>\n",
       "      <td>Mountain</td>\n",
       "      <td>Washakie County</td>\n",
       "      <td>56043</td>\n",
       "      <td>56043</td>\n",
       "      <td>Insuff Data</td>\n",
       "      <td>1/1/2015</td>\n",
       "      <td>7572.0</td>\n",
       "      <td>0.106</td>\n",
       "      <td>...</td>\n",
       "      <td>NaN</td>\n",
       "      <td>0.226</td>\n",
       "      <td>0.101</td>\n",
       "      <td>7940.0</td>\n",
       "      <td>0.099</td>\n",
       "      <td>47.0</td>\n",
       "      <td>50740</td>\n",
       "      <td>0.309</td>\n",
       "      <td>NaN</td>\n",
       "      <td>NaN</td>\n",
       "    </tr>\n",
       "    <tr>\n",
       "      <th>6107</th>\n",
       "      <td>WY</td>\n",
       "      <td>West</td>\n",
       "      <td>Mountain</td>\n",
       "      <td>Weston County</td>\n",
       "      <td>56045</td>\n",
       "      <td>56045</td>\n",
       "      <td>Insuff Data</td>\n",
       "      <td>1/1/2014</td>\n",
       "      <td>5633.0</td>\n",
       "      <td>0.162</td>\n",
       "      <td>...</td>\n",
       "      <td>NaN</td>\n",
       "      <td>0.201</td>\n",
       "      <td>0.084</td>\n",
       "      <td>6906.0</td>\n",
       "      <td>0.130</td>\n",
       "      <td>28.0</td>\n",
       "      <td>53665</td>\n",
       "      <td>0.232</td>\n",
       "      <td>NaN</td>\n",
       "      <td>0.171</td>\n",
       "    </tr>\n",
       "    <tr>\n",
       "      <th>6108</th>\n",
       "      <td>WY</td>\n",
       "      <td>West</td>\n",
       "      <td>Mountain</td>\n",
       "      <td>Weston County</td>\n",
       "      <td>56045</td>\n",
       "      <td>56045</td>\n",
       "      <td>Insuff Data</td>\n",
       "      <td>1/1/2015</td>\n",
       "      <td>7819.0</td>\n",
       "      <td>0.162</td>\n",
       "      <td>...</td>\n",
       "      <td>NaN</td>\n",
       "      <td>0.189</td>\n",
       "      <td>0.092</td>\n",
       "      <td>7238.0</td>\n",
       "      <td>0.130</td>\n",
       "      <td>28.0</td>\n",
       "      <td>59314</td>\n",
       "      <td>0.235</td>\n",
       "      <td>NaN</td>\n",
       "      <td>NaN</td>\n",
       "    </tr>\n",
       "  </tbody>\n",
       "</table>\n",
       "<p>834 rows × 64 columns</p>\n",
       "</div>"
      ],
      "text/plain": [
       "     State Region  Division                      County   FIPS  GEOID  \\\n",
       "0       AK   West   Pacific  Aleutians West Census Area   2016   2016   \n",
       "1       AK   West   Pacific  Aleutians West Census Area   2016   2016   \n",
       "2       AK   West   Pacific           Anchorage Borough   2020   2020   \n",
       "3       AK   West   Pacific           Anchorage Borough   2020   2020   \n",
       "4       AK   West   Pacific          Bethel Census Area   2050   2050   \n",
       "...    ...    ...       ...                         ...    ...    ...   \n",
       "6104    WY   West  Mountain                Uinta County  56041  56041   \n",
       "6105    WY   West  Mountain             Washakie County  56043  56043   \n",
       "6106    WY   West  Mountain             Washakie County  56043  56043   \n",
       "6107    WY   West  Mountain               Weston County  56045  56045   \n",
       "6108    WY   West  Mountain               Weston County  56045  56045   \n",
       "\n",
       "       SMS Region      Year  Premature death  Poor or fair health  ...  \\\n",
       "0     Insuff Data  1/1/2014              NaN                0.122  ...   \n",
       "1     Insuff Data  1/1/2015              NaN                0.122  ...   \n",
       "2       Region 22  1/1/2014           6827.0                0.125  ...   \n",
       "3       Region 22  1/1/2015           6856.0                0.125  ...   \n",
       "4     Insuff Data  1/1/2014          13345.0                0.211  ...   \n",
       "...           ...       ...              ...                  ...  ...   \n",
       "6104  Insuff Data  1/1/2015           7436.0                0.135  ...   \n",
       "6105  Insuff Data  1/1/2014           6580.0                0.106  ...   \n",
       "6106  Insuff Data  1/1/2015           7572.0                0.106  ...   \n",
       "6107  Insuff Data  1/1/2014           5633.0                0.162  ...   \n",
       "6108  Insuff Data  1/1/2015           7819.0                0.162  ...   \n",
       "\n",
       "      Drug poisoning deaths  Uninsured adults  Uninsured children  \\\n",
       "0                       NaN             0.374               0.250   \n",
       "1                       NaN             0.314               0.176   \n",
       "2                     15.37             0.218               0.096   \n",
       "3                     17.08             0.227               0.123   \n",
       "4                       NaN             0.394               0.124   \n",
       "...                     ...               ...                 ...   \n",
       "6104                  18.66             0.192               0.090   \n",
       "6105                    NaN             0.225               0.086   \n",
       "6106                    NaN             0.226               0.101   \n",
       "6107                    NaN             0.201               0.084   \n",
       "6108                    NaN             0.189               0.092   \n",
       "\n",
       "      Health care costs  Could not see doctor due to cost  \\\n",
       "0                3791.0                             0.185   \n",
       "1                4837.0                             0.185   \n",
       "2                6588.0                             0.119   \n",
       "3                6582.0                             0.119   \n",
       "4                5860.0                             0.200   \n",
       "...                 ...                               ...   \n",
       "6104             7600.0                             0.123   \n",
       "6105             8202.0                             0.099   \n",
       "6106             7940.0                             0.099   \n",
       "6107             6906.0                             0.130   \n",
       "6108             7238.0                             0.130   \n",
       "\n",
       "      Other primary care providers  Median household income  \\\n",
       "0                            216.0                    69192   \n",
       "1                            254.0                    74088   \n",
       "2                            135.0                    71094   \n",
       "3                            148.0                    76362   \n",
       "4                            169.0                    41722   \n",
       "...                            ...                      ...   \n",
       "6104                          47.0                    60953   \n",
       "6105                          47.0                    49533   \n",
       "6106                          47.0                    50740   \n",
       "6107                          28.0                    53665   \n",
       "6108                          28.0                    59314   \n",
       "\n",
       "      Children eligible for free lunch  Homicide rate  \\\n",
       "0                                0.127            NaN   \n",
       "1                                0.133            NaN   \n",
       "2                                0.319           6.29   \n",
       "3                                0.334           5.60   \n",
       "4                                0.668          12.77   \n",
       "...                                ...            ...   \n",
       "6104                             0.273            NaN   \n",
       "6105                             0.328            NaN   \n",
       "6106                             0.309            NaN   \n",
       "6107                             0.232            NaN   \n",
       "6108                             0.235            NaN   \n",
       "\n",
       "      Inadequate social support  \n",
       "0                         0.287  \n",
       "1                           NaN  \n",
       "2                         0.160  \n",
       "3                           NaN  \n",
       "4                         0.477  \n",
       "...                         ...  \n",
       "6104                        NaN  \n",
       "6105                      0.133  \n",
       "6106                        NaN  \n",
       "6107                      0.171  \n",
       "6108                        NaN  \n",
       "\n",
       "[834 rows x 64 columns]"
      ]
     },
     "execution_count": 5,
     "metadata": {},
     "output_type": "execute_result"
    }
   ],
   "source": [
    "rd[rd[\"Region\"] == \"West\"]"
   ]
  },
  {
   "cell_type": "markdown",
   "id": "815e7507-1a65-4039-a2a7-8e20b3421e5e",
   "metadata": {},
   "source": [
    "If we want to keep this subset of our original data, we need to set it equal to an identifier, in this case <code>West_Regions</code>, using the <code>copy()</code> function. "
   ]
  },
  {
   "cell_type": "code",
   "execution_count": 6,
   "id": "42e8705b-391d-4ded-8bc0-c6159830322a",
   "metadata": {},
   "outputs": [],
   "source": [
    "West_Regions = rd[rd[\"Region\"] == \"West\"].copy()"
   ]
  },
  {
   "cell_type": "markdown",
   "id": "3b4d6ec5-1c9c-4341-aaae-cd2e8d71124a",
   "metadata": {},
   "source": [
    "Now we can call this specific data later on by using West_Regions."
   ]
  },
  {
   "cell_type": "markdown",
   "id": "5ca79c32-0255-4e34-bdf8-6601880dcc58",
   "metadata": {},
   "source": [
    "<h4>Combining data:</h4>"
   ]
  },
  {
   "cell_type": "markdown",
   "id": "ff7c1cf4-fa30-4d9c-a2bc-d882504fd07b",
   "metadata": {},
   "source": [
    "The final phase of using adjusting data so that the information you want to display is displayed is by adding subsets together."
   ]
  },
  {
   "cell_type": "markdown",
   "id": "4691f462-c2eb-4902-9fcd-c740b4ffb53d",
   "metadata": {},
   "source": [
    "There are 3 pandas functions that allow us to add data together in different ways: `pd.concat`, `pd.merge`, and `pd.join`."
   ]
  },
  {
   "cell_type": "markdown",
   "id": "66220d6c-1bcd-4281-9fd2-ef1139e8eb46",
   "metadata": {},
   "source": [
    "First, `pd.concat` allows us to concatenate data. This is best used when data naturally flows together, such as adding a subset of rows one and two to a subset of rows three and four."
   ]
  },
  {
   "cell_type": "code",
   "execution_count": 7,
   "id": "b37af91f-68e3-49b2-ae38-0f0f0812bf5e",
   "metadata": {},
   "outputs": [],
   "source": [
    "WE = pd.DataFrame({\"Region\" : [\"West\",\"East\"],\n",
    "                   \"Population (millions)\" : [112,160]})"
   ]
  },
  {
   "cell_type": "code",
   "execution_count": 8,
   "id": "51e80c1a-4bbb-4935-bd05-fcffeed01e0c",
   "metadata": {},
   "outputs": [],
   "source": [
    "NwSe = pd.DataFrame({\"Region\" : [\"Northwest\",\"Southeast\"],\n",
    "                   \"Population (millions)\" : [20,43]})"
   ]
  },
  {
   "cell_type": "code",
   "execution_count": 9,
   "id": "5b9b8440-2498-410d-8cc8-c7c23f7215cd",
   "metadata": {},
   "outputs": [
    {
     "name": "stdout",
     "output_type": "stream",
     "text": [
      "  Region  Population (millions)\n",
      "0   West                    112\n",
      "1   East                    160\n",
      "      Region  Population (millions)\n",
      "0  Northwest                     20\n",
      "1  Southeast                     43\n"
     ]
    }
   ],
   "source": [
    "print(WE)\n",
    "print(NwSe)"
   ]
  },
  {
   "cell_type": "markdown",
   "id": "2ff4395e-0b75-4cbc-85b3-6b6768d45f29",
   "metadata": {},
   "source": [
    "With the two example datasets above, we can add them together vertically using the <code>pd.concat</code> function."
   ]
  },
  {
   "cell_type": "markdown",
   "id": "5e75dc98-ece7-4191-bcd3-acc5b93e6f55",
   "metadata": {},
   "source": [
    "This function requires us to define an axis as 1 or 0, which decides whether the data is added vertically or horizontally. Next the ignore_index=True part of the function tells the function to ignore the number in front of region and run from 0-3 insted of 0,1 - 0,1. The final false tells Python to ignore a sorting error that can occur when axes are not aligned correctly."
   ]
  },
  {
   "cell_type": "code",
   "execution_count": 10,
   "id": "ddbd991e-423b-4d8a-ab94-dbce1a4426be",
   "metadata": {},
   "outputs": [
    {
     "data": {
      "text/html": [
       "<div>\n",
       "<style scoped>\n",
       "    .dataframe tbody tr th:only-of-type {\n",
       "        vertical-align: middle;\n",
       "    }\n",
       "\n",
       "    .dataframe tbody tr th {\n",
       "        vertical-align: top;\n",
       "    }\n",
       "\n",
       "    .dataframe thead th {\n",
       "        text-align: right;\n",
       "    }\n",
       "</style>\n",
       "<table border=\"1\" class=\"dataframe\">\n",
       "  <thead>\n",
       "    <tr style=\"text-align: right;\">\n",
       "      <th></th>\n",
       "      <th>Region</th>\n",
       "      <th>Population (millions)</th>\n",
       "    </tr>\n",
       "  </thead>\n",
       "  <tbody>\n",
       "    <tr>\n",
       "      <th>0</th>\n",
       "      <td>West</td>\n",
       "      <td>112</td>\n",
       "    </tr>\n",
       "    <tr>\n",
       "      <th>1</th>\n",
       "      <td>East</td>\n",
       "      <td>160</td>\n",
       "    </tr>\n",
       "    <tr>\n",
       "      <th>2</th>\n",
       "      <td>Northwest</td>\n",
       "      <td>20</td>\n",
       "    </tr>\n",
       "    <tr>\n",
       "      <th>3</th>\n",
       "      <td>Southeast</td>\n",
       "      <td>43</td>\n",
       "    </tr>\n",
       "  </tbody>\n",
       "</table>\n",
       "</div>"
      ],
      "text/plain": [
       "      Region  Population (millions)\n",
       "0       West                    112\n",
       "1       East                    160\n",
       "2  Northwest                     20\n",
       "3  Southeast                     43"
      ]
     },
     "execution_count": 10,
     "metadata": {},
     "output_type": "execute_result"
    }
   ],
   "source": [
    "total = pd.concat([WE,NwSe],axis=0,ignore_index=True,sort=False)\n",
    "total"
   ]
  },
  {
   "cell_type": "markdown",
   "id": "3e9125ec-72e3-4b7d-a3b8-c4c3421b65bc",
   "metadata": {},
   "source": [
    "Next, we use the merge function when we have multiple datapoints for the same identifier, in the case above Region. If we were, for example, trying to add a column of birthrate, we could take a dataset that includes Region and Birthrate and merge this with the data above."
   ]
  },
  {
   "cell_type": "markdown",
   "id": "fac7115b-796f-4b4d-afe2-de28948913cb",
   "metadata": {},
   "source": [
    "We could use the code below to merge the data above with an imaginary birthrate dataset:"
   ]
  },
  {
   "cell_type": "markdown",
   "id": "d354cc49-2bdd-4424-b6d9-98e05b2cffb7",
   "metadata": {},
   "source": [
    "<code>pd.merge(total,birthrate)</code>"
   ]
  },
  {
   "cell_type": "markdown",
   "id": "fc693db4-042e-4709-a465-171721aa969b",
   "metadata": {},
   "source": [
    "Finally, the join function is a rarely used function that joins two dataframes that share the same name values. The merge function is generally more useful."
   ]
  },
  {
   "cell_type": "markdown",
   "id": "17576c4d-b3b0-45d4-822e-f023435c2c63",
   "metadata": {},
   "source": [
    "<h3>Compiled Data</h3>"
   ]
  },
  {
   "cell_type": "markdown",
   "id": "2bab0cfa-06f8-4472-bfe2-cf25de8e216d",
   "metadata": {},
   "source": [
    "For the data set that we have in this example, the \"County Health Data\", we can simplify this data into a more synthesized and simplistic dataset that focuses on the information that matters to us."
   ]
  },
  {
   "cell_type": "markdown",
   "id": "8aea0ec6-4665-41e9-b161-3ccdf744de63",
   "metadata": {},
   "source": [
    "In this case I am interested in finding the percentage of low birthweight on the East Coast. I was born almost two months early and was placed in the premature child ward after birth so I am curious to see how many children have had a similar experience."
   ]
  },
  {
   "cell_type": "code",
   "execution_count": 14,
   "id": "3dfb6672-882c-4e44-8d3b-8d04502e22dc",
   "metadata": {},
   "outputs": [
    {
     "data": {
      "text/plain": [
       "46      0.09\n",
       "47      0.09\n",
       "48      0.09\n",
       "49      0.09\n",
       "50      0.12\n",
       "        ... \n",
       "6058    0.06\n",
       "6059    0.10\n",
       "6060    0.10\n",
       "6061    0.12\n",
       "6062    0.12\n",
       "Name: Low birthweight, Length: 2803, dtype: float64"
      ]
     },
     "execution_count": 14,
     "metadata": {},
     "output_type": "execute_result"
    }
   ],
   "source": [
    "simpli1 = rd[rd[\"Region\"] == \"South\"]\n",
    "simpli2 = simpli1.loc[:,\"Low birthweight\"]\n",
    "simpli2"
   ]
  },
  {
   "cell_type": "markdown",
   "id": "2e40317f-f2e7-4325-9075-f3863284a36c",
   "metadata": {},
   "source": [
    "Because this dataset is still so large, I will simplify it further by specifically searching for a Low birthweight in NC"
   ]
  },
  {
   "cell_type": "code",
   "execution_count": null,
   "id": "959c4a59-f4c0-4578-8eb5-ded85a139feb",
   "metadata": {},
   "outputs": [],
   "source": [
    "simpli1"
   ]
  },
  {
   "cell_type": "code",
   "execution_count": 12,
   "id": "3fa1a9c2-7706-4ea7-b0d5-f302107dd392",
   "metadata": {},
   "outputs": [
    {
     "data": {
      "text/plain": [
       "3243    0.09\n",
       "3244    0.09\n",
       "3245    0.08\n",
       "3246    0.08\n",
       "3247    0.08\n",
       "        ... \n",
       "3438    0.10\n",
       "3439    0.10\n",
       "3440    0.10\n",
       "3441    0.08\n",
       "3442    0.08\n",
       "Name: Low birthweight, Length: 200, dtype: float64"
      ]
     },
     "execution_count": 12,
     "metadata": {},
     "output_type": "execute_result"
    }
   ],
   "source": [
    "final = simpli1[simpli1[\"State\"] == \"NC\"]\n",
    "final_subset = final.iloc[:,12]\n",
    "final_subset"
   ]
  },
  {
   "cell_type": "code",
   "execution_count": 13,
   "id": "4bfc7bef-49a3-4d54-bc7a-ebf01b1492db",
   "metadata": {},
   "outputs": [],
   "source": [
    "final_subset.to_csv(\"final_subset.csv\", index=False)"
   ]
  },
  {
   "cell_type": "code",
   "execution_count": 21,
   "id": "244608ad-a0e0-4fe9-bfe6-605aa72ca36b",
   "metadata": {},
   "outputs": [
    {
     "data": {
      "text/html": [
       "<div>\n",
       "<style scoped>\n",
       "    .dataframe tbody tr th:only-of-type {\n",
       "        vertical-align: middle;\n",
       "    }\n",
       "\n",
       "    .dataframe tbody tr th {\n",
       "        vertical-align: top;\n",
       "    }\n",
       "\n",
       "    .dataframe thead th {\n",
       "        text-align: right;\n",
       "    }\n",
       "</style>\n",
       "<table border=\"1\" class=\"dataframe\">\n",
       "  <thead>\n",
       "    <tr style=\"text-align: right;\">\n",
       "      <th></th>\n",
       "      <th>County</th>\n",
       "      <th>Low birthweight</th>\n",
       "    </tr>\n",
       "  </thead>\n",
       "  <tbody>\n",
       "    <tr>\n",
       "      <th>3243</th>\n",
       "      <td>Alamance County</td>\n",
       "      <td>0.09</td>\n",
       "    </tr>\n",
       "    <tr>\n",
       "      <th>3244</th>\n",
       "      <td>Alamance County</td>\n",
       "      <td>0.09</td>\n",
       "    </tr>\n",
       "    <tr>\n",
       "      <th>3245</th>\n",
       "      <td>Alexander County</td>\n",
       "      <td>0.08</td>\n",
       "    </tr>\n",
       "    <tr>\n",
       "      <th>3246</th>\n",
       "      <td>Alexander County</td>\n",
       "      <td>0.08</td>\n",
       "    </tr>\n",
       "    <tr>\n",
       "      <th>3247</th>\n",
       "      <td>Alleghany County</td>\n",
       "      <td>0.08</td>\n",
       "    </tr>\n",
       "    <tr>\n",
       "      <th>...</th>\n",
       "      <td>...</td>\n",
       "      <td>...</td>\n",
       "    </tr>\n",
       "    <tr>\n",
       "      <th>3438</th>\n",
       "      <td>Wilson County</td>\n",
       "      <td>0.10</td>\n",
       "    </tr>\n",
       "    <tr>\n",
       "      <th>3439</th>\n",
       "      <td>Yadkin County</td>\n",
       "      <td>0.10</td>\n",
       "    </tr>\n",
       "    <tr>\n",
       "      <th>3440</th>\n",
       "      <td>Yadkin County</td>\n",
       "      <td>0.10</td>\n",
       "    </tr>\n",
       "    <tr>\n",
       "      <th>3441</th>\n",
       "      <td>Yancey County</td>\n",
       "      <td>0.08</td>\n",
       "    </tr>\n",
       "    <tr>\n",
       "      <th>3442</th>\n",
       "      <td>Yancey County</td>\n",
       "      <td>0.08</td>\n",
       "    </tr>\n",
       "  </tbody>\n",
       "</table>\n",
       "<p>200 rows × 2 columns</p>\n",
       "</div>"
      ],
      "text/plain": [
       "                County  Low birthweight\n",
       "3243   Alamance County             0.09\n",
       "3244   Alamance County             0.09\n",
       "3245  Alexander County             0.08\n",
       "3246  Alexander County             0.08\n",
       "3247  Alleghany County             0.08\n",
       "...                ...              ...\n",
       "3438     Wilson County             0.10\n",
       "3439     Yadkin County             0.10\n",
       "3440     Yadkin County             0.10\n",
       "3441     Yancey County             0.08\n",
       "3442     Yancey County             0.08\n",
       "\n",
       "[200 rows x 2 columns]"
      ]
     },
     "execution_count": 21,
     "metadata": {},
     "output_type": "execute_result"
    }
   ],
   "source": [
    "final_subset2 = final.loc[:,[\"County\",\"Low birthweight\"]]\n",
    "final_subset2"
   ]
  },
  {
   "cell_type": "code",
   "execution_count": 23,
   "id": "96487b9c-64cd-4691-bf89-5326d8bde352",
   "metadata": {},
   "outputs": [],
   "source": [
    "final_subset2.to_csv(\"final_subset2.csv\", index=False)"
   ]
  },
  {
   "cell_type": "markdown",
   "id": "320a277f-e0ee-4c96-ad8a-2307dd41ed6e",
   "metadata": {},
   "source": [
    "After producing this subset of data, I used Microsoft Excel to simplify the data even further, by averging the two values for each county into one. This made it far easier for me to create a visualization from the data and present less complicated data in general."
   ]
  }
 ],
 "metadata": {
  "kernelspec": {
   "display_name": "Python 3 (ipykernel)",
   "language": "python",
   "name": "python3"
  },
  "language_info": {
   "codemirror_mode": {
    "name": "ipython",
    "version": 3
   },
   "file_extension": ".py",
   "mimetype": "text/x-python",
   "name": "python",
   "nbconvert_exporter": "python",
   "pygments_lexer": "ipython3",
   "version": "3.9.13"
  }
 },
 "nbformat": 4,
 "nbformat_minor": 5
}
